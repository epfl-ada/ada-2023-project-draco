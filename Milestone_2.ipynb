{
 "cells": [
  {
   "cell_type": "markdown",
   "metadata": {},
   "source": [
    "# DRACO - Milestone 2: Dataset exploration\n",
    "\n",
    "This document is structured as follow:\n",
    "\n",
    "1. Characters Data - Extraction and Processing\n",
    "2. Movie Data - Extraction and Processing\n",
    "3. Actors Ethinicites - Exploration\n",
    "\n",
    "---"
   ]
  },
  {
   "cell_type": "code",
   "execution_count": 1,
   "metadata": {},
   "outputs": [],
   "source": [
    "import pandas as pd\n",
    "import json\n",
    "import numpy as np\n",
    "import matplotlib.pyplot as plt\n",
    "import seaborn as sns\n",
    "%matplotlib inline"
   ]
  },
  {
   "cell_type": "code",
   "execution_count": 2,
   "metadata": {},
   "outputs": [],
   "source": [
    "DATA_FOLDER = './Data/'\n",
    "\n",
    "CHARACTER_PATH = DATA_FOLDER + 'MovieSummaries/character.metadata.tsv'\n",
    "MOVIE_PATH = DATA_FOLDER + 'MovieSummaries/movie.metadata.tsv'\n",
    "ETHNICITY_PATH = DATA_FOLDER + 'ethnicities_data.tsv'\n",
    "NAME_PATH = DATA_FOLDER + 'MovieSummaries/name.clusters.txt'\n",
    "PLOT_PATH = DATA_FOLDER + 'MovieSummaries/plot_summaries.txt'"
   ]
  }
 ],
 "metadata": {
  "kernelspec": {
   "display_name": "ada",
   "language": "python",
   "name": "python3"
  },
  "language_info": {
   "codemirror_mode": {
    "name": "ipython",
    "version": 3
   },
   "file_extension": ".py",
   "mimetype": "text/x-python",
   "name": "python",
   "nbconvert_exporter": "python",
   "pygments_lexer": "ipython3",
   "version": "3.9.18"
  }
 },
 "nbformat": 4,
 "nbformat_minor": 2
}
