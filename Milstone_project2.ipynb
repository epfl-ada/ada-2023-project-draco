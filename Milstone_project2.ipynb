{
 "cells": [
  {
   "cell_type": "markdown",
   "metadata": {},
   "source": [
    "# DRACO - Milestone 2: Dataset exploration\n",
    "\n",
    "This document is structured as follow:\n",
    "\n",
    "1. Characters Data - Extraction and Processing\n",
    "2. Movie Data - Extraction and Processing\n",
    "3. Actors Ethinicites - Exploration\n",
    "\n",
    "---"
   ]
  },
  {
   "cell_type": "code",
   "execution_count": null,
   "metadata": {},
   "outputs": [],
   "source": [
    "import pandas as pd\n",
    "import json\n",
    "import numpy as np\n",
    "import matplotlib.pyplot as plt\n",
    "import seaborn as sns\n",
    "%matplotlib inline"
   ]
  },
  {
   "cell_type": "code",
   "execution_count": null,
   "metadata": {},
   "outputs": [],
   "source": [
    "DATA_FOLDER = './Data/'\n",
    "\n",
    "CHARACTER_PATH = DATA_FOLDER + 'MovieSummaries/character.metadata.tsv'\n",
    "MOVIE_PATH = DATA_FOLDER + 'MovieSummaries/movie.metadata.tsv'\n",
    "ETHNICITY_PATH = DATA_FOLDER + 'ethnicities_data.tsv'\n",
    "NAME_PATH = DATA_FOLDER + 'MovieSummaries/name.clusters.txt'\n",
    "PLOT_PATH = DATA_FOLDER + 'MovieSummaries/plot_summaries.txt'"
   ]
  },
  {
   "cell_type": "markdown",
   "metadata": {},
   "source": [
    "## Characters Data - Extraction and Processing"
   ]
  },
  {
   "cell_type": "markdown",
   "metadata": {},
   "source": [
    "First, we will load the character dataset and the ethnicity dataset. This is done to subsequently merge the two dataframes, connecting the characters with the ethnicity of the actors."
   ]
  },
  {
   "cell_type": "code",
   "execution_count": null,
   "metadata": {},
   "outputs": [],
   "source": [
    "characters_original = pd.read_csv(CHARACTER_PATH, sep='\\t', header=None, \n",
    "    names = [\"Wikipedia Movie ID\", \"Freebase Movie ID\", \"Movie release date\", \"Character name\", \"Birth\", \n",
    "    \"Gender\", \"Height\", \"Ethnicity ID\", \"Name\", \"Age at movie release\",\n",
    "    \"Freebase character/actor map ID\", \"Freebase character ID\", \"Freebase actor ID\"])\n",
    "characters = characters_original.copy()\n",
    "characters.head()"
   ]
  },
  {
   "cell_type": "code",
   "execution_count": null,
   "metadata": {},
   "outputs": [],
   "source": [
    "ethnicities_data_original = pd.read_csv(ETHNICITY_PATH, sep='\\t',  \n",
    "                               header=0, names=[\"Ethnicity ID\", \"Ethnicity\"])\n",
    "ethnicities_data = ethnicities_data_original.copy()\n",
    "ethnicities_data.head()"
   ]
  },
  {
   "cell_type": "markdown",
   "metadata": {},
   "source": [
    "After loading both datasets, we'll perform an inner join on the column `Ethnicity ID` to retain only the pertinent information."
   ]
  },
  {
   "cell_type": "code",
   "execution_count": null,
   "metadata": {},
   "outputs": [],
   "source": [
    "characters = characters_original.copy().merge(ethnicities_data.dropna(), how='inner', on='Ethnicity ID')\n",
    "characters.head()"
   ]
  },
  {
   "cell_type": "markdown",
   "metadata": {},
   "source": [
    "## Movie Data - Extraction and Processing"
   ]
  },
  {
   "cell_type": "markdown",
   "metadata": {},
   "source": [
    "Next, we load the movie dataset. This is essential as we plan to merge the character dataframe with the movie dataframe, creating a comprehensive dataframe that encompasses all character-related information."
   ]
  },
  {
   "cell_type": "code",
   "execution_count": null,
   "metadata": {},
   "outputs": [],
   "source": [
    "movies_original = pd.read_csv(MOVIE_PATH, sep='\\t', header=None, \n",
    "    names = [\"Wikipedia Movie ID\", \"Freebase Movie ID\", \"Movie name\",\"Movie release date\", \"Box office revenue\",\"Movie runtime\",\"Movie language\",\"Movie countries\",\"Movie genres\" ])\n",
    "movies = movies_original.copy()\n",
    "movies.head()"
   ]
  },
  {
   "cell_type": "markdown",
   "metadata": {},
   "source": [
    "We can observe that the three columns `Movie language`, `Movie language`, `Movie genres` contain dictionaries. In our case, it would be much more convenient to have lists instead. Let's process it accordingly"
   ]
  },
  {
   "cell_type": "code",
   "execution_count": null,
   "metadata": {},
   "outputs": [],
   "source": [
    "movies[\"Movie countries\"] = movies[\"Movie countries\"].apply(lambda x: list(json.loads(x).values()) if len(json.loads(x).values()) > 0 else 'NaN')\n",
    "movies[\"Movie language\"] = movies[\"Movie language\"].apply(lambda x: list(json.loads(x).values()) if len(json.loads(x).values()) > 0 else 'NaN')\n",
    "movies[\"Movie genres\"] = movies[\"Movie genres\"].apply(lambda x: list(json.loads(x).values()) if len(json.loads(x).values()) > 0 else 'NaN')"
   ]
  },
  {
   "cell_type": "markdown",
   "metadata": {},
   "source": [
    "We should also add a category for the year of release in addition of the date of release"
   ]
  },
  {
   "cell_type": "code",
   "execution_count": null,
   "metadata": {},
   "outputs": [],
   "source": [
    "#Errors = 'coerce' will force the values that are outside the bound to be NaT\n",
    "movies[\"Movie release year\"] = pd.to_datetime(movies[\"Movie release date\"],format='mixed',errors = 'coerce').dt.year\n",
    "#Remove the NaN and NaT values\n",
    "movies = movies[movies[\"Movie release year\"].notna()]\n",
    "#Express all years of realese as int.\n",
    "movies[\"Movie release year\"] = movies[\"Movie release year\"].astype(\"int\")\n"
   ]
  },
  {
   "cell_type": "markdown",
   "metadata": {},
   "source": [
    "As the dataset was realesed on 2013, the data from this year are not complet and thus should be removed"
   ]
  },
  {
   "cell_type": "code",
   "execution_count": null,
   "metadata": {},
   "outputs": [],
   "source": [
    "movies = movies[movies['Movie release year'] != 2013]"
   ]
  },
  {
   "cell_type": "markdown",
   "metadata": {},
   "source": [
    "We should now pay attention to remove the movie of the Animation field as the actors that have played inside are rather voice actors than actors. Generally in this domain, the looking and the ethinicty of the actors isn't as relevant as in the real action movies."
   ]
  },
  {
   "cell_type": "code",
   "execution_count": null,
   "metadata": {},
   "outputs": [],
   "source": [
    "# First let's see all the unique genres, to discard the animation ones:\n",
    "unique_genres = set()\n",
    "movies['Movie genres'].apply(lambda x: unique_genres.update(x))\n",
    "print(unique_genres)"
   ]
  },
  {
   "cell_type": "code",
   "execution_count": null,
   "metadata": {},
   "outputs": [],
   "source": [
    "values_to_find = ['Anime', 'Animation', 'Computer Animation', 'Clay animation', 'Animated cartoon','Stop motion']\n",
    "movies = movies[movies['Movie genres'].apply(lambda x: not(any(value in x for value in values_to_find)))]\n"
   ]
  },
  {
   "cell_type": "markdown",
   "metadata": {},
   "source": [
    "Now, let's merge the movie dataframe with the character dataframe to create a single dataframe that encompasses all the information about a character along with details about the films they are involved in."
   ]
  },
  {
   "cell_type": "code",
   "execution_count": null,
   "metadata": {},
   "outputs": [],
   "source": [
    "characters_movies = characters.merge(movies, how='inner', on=['Wikipedia Movie ID',\"Freebase Movie ID\",\"Movie release date\"])\n",
    "characters_movies.head()"
   ]
  },
  {
   "cell_type": "markdown",
   "metadata": {},
   "source": [
    "## Actors Ethinicites - Exploration"
   ]
  },
  {
   "cell_type": "markdown",
   "metadata": {},
   "source": [
    "### Ethinicity distribution"
   ]
  },
  {
   "cell_type": "markdown",
   "metadata": {},
   "source": [
    "Let's visualized the proportion of ethinicties among the characters.\n",
    "For now we're mostly going to compute the actors distribution thus we should remove also duplicates of actors."
   ]
  },
  {
   "cell_type": "code",
   "execution_count": null,
   "metadata": {},
   "outputs": [],
   "source": [
    "unique_characters_movies = characters_movies.copy().drop_duplicates(subset='Freebase actor ID')"
   ]
  },
  {
   "cell_type": "code",
   "execution_count": null,
   "metadata": {},
   "outputs": [],
   "source": [
    "grouped_ethnicity=unique_characters_movies.groupby('Ethnicity').count()\n",
    "grouped_ethnicity['Freebase actor ID'].sort_values(ascending=False)[0:20].plot(kind='bar')"
   ]
  },
  {
   "cell_type": "code",
   "execution_count": null,
   "metadata": {},
   "outputs": [],
   "source": [
    "grouped_ethinity = unique_characters_movies.groupby(['Ethnicity']).count()\n",
    "#grouped_ethinity = grouped_ethinity.div(grouped_ethinity.sum(axis=1), axis=0)\n",
    "main_ethnicities = grouped_ethinity['Freebase actor ID'].sort_values(ascending=False)[0:20]\n",
    "main_ethnicities.plot(kind='bar')\n",
    "plt.title(\"Distribution of the main actor ethnicities\")\n",
    "plt.xlabel(\"Ethnicities\")\n",
    "plt.ylabel(\"Number of actors\")"
   ]
  },
  {
   "cell_type": "markdown",
   "metadata": {},
   "source": [
    "We've noticed that many characters are portrayed by Indian actors. For our project, our primary focus is on Hollywood characters. Let's see if this choice is representavie of the movie industry."
   ]
  },
  {
   "cell_type": "code",
   "execution_count": null,
   "metadata": {},
   "outputs": [],
   "source": [
    "characters_movies_main_country = unique_characters_movies[unique_characters_movies[\"Movie countries\"] != \"NaN\"].copy()\n",
    "characters_movies_main_country[\"Movie countries\"] = characters_movies_main_country[\"Movie countries\"].apply(lambda x: x[0])"
   ]
  },
  {
   "cell_type": "code",
   "execution_count": null,
   "metadata": {},
   "outputs": [],
   "source": [
    "nb_actors_per_industries = characters_movies_main_country.groupby(['Movie countries']).count()['Freebase actor ID'].sort_values(ascending=False)\n",
    "nb_actors_per_industries.head(10)"
   ]
  },
  {
   "cell_type": "markdown",
   "metadata": {},
   "source": [
    "To have a better view of the main industries let's consider only the industires with more than 100 different actors."
   ]
  },
  {
   "cell_type": "code",
   "execution_count": null,
   "metadata": {},
   "outputs": [],
   "source": [
    "nb_actors_per_industries['Other'] = nb_actors_per_industries[nb_actors_per_industries < 100].sum()\n",
    "nb_actors_per_industries = nb_actors_per_industries[nb_actors_per_industries > 100].sort_values(ascending=False)"
   ]
  },
  {
   "cell_type": "code",
   "execution_count": null,
   "metadata": {},
   "outputs": [],
   "source": [
    "nb_actors_per_industries.plot.pie(figsize=(10, 10), autopct='%1.1f%%', startangle=90, title='Proportion of actors per industries', label='')\n"
   ]
  },
  {
   "cell_type": "markdown",
   "metadata": {},
   "source": [
    "### Hollywoodian analysis"
   ]
  },
  {
   "cell_type": "markdown",
   "metadata": {},
   "source": [
    "\n",
    "\n",
    "Let's narrow down our selection to include only Hollywood or American characters, meaning those characters that appear in American movies"
   ]
  },
  {
   "cell_type": "code",
   "execution_count": null,
   "metadata": {},
   "outputs": [],
   "source": [
    "characters_holywood = unique_characters_movies.copy()[unique_characters_movies[\"Movie countries\"].apply(lambda x: 'United States of America' in x)]"
   ]
  },
  {
   "cell_type": "markdown",
   "metadata": {},
   "source": [
    "By grouping the data by ethnicities, let's analyse what are the main ethnicties of Hollywoodian actors"
   ]
  },
  {
   "cell_type": "code",
   "execution_count": null,
   "metadata": {},
   "outputs": [],
   "source": [
    "H_grouped_ethnicity = characters_holywood.groupby(['Ethnicity']).count()\n",
    "#Let's take the 10 main actor ethinicities\n",
    "main_ethinicities = H_grouped_ethnicity['Freebase actor ID'].sort_values(ascending=False)[0:10].index\n",
    "main_characters_holywood = characters_holywood[characters_holywood['Ethnicity'].isin(main_ethinicities)]\n",
    "main_ethinicities"
   ]
  },
  {
   "cell_type": "markdown",
   "metadata": {},
   "source": [
    "Now let's visualize the distribution of holywoodian actors"
   ]
  },
  {
   "cell_type": "code",
   "execution_count": null,
   "metadata": {},
   "outputs": [],
   "source": [
    "main_holywoodian_ethnicities =  H_grouped_ethnicity.loc[main_ethinicities]['Freebase actor ID']\n",
    "main_holywoodian_ethnicities.plot(kind='bar')\n",
    "plt.title(\"Distribution of the main holywoodian actor ethnicities\")\n",
    "plt.xlabel(\"Ethnicities\")\n",
    "plt.ylabel(\"Number of actors\")"
   ]
  },
  {
   "cell_type": "markdown",
   "metadata": {},
   "source": [
    "Analysze the sex distribution by ethnicities "
   ]
  },
  {
   "cell_type": "code",
   "execution_count": null,
   "metadata": {},
   "outputs": [],
   "source": [
    "plt.figure(figsize=(20,10))\n",
    "sns.histplot(data=main_characters_holywood,x='Movie release year',hue='Ethnicity',multiple='fill',stat='probability')\n",
    "plt.title(\"Distribution of ethnicity of actors in the cinema industry over time\",fontsize=20)\n",
    "plt.xticks(np.arange(main_characters_holywood['Movie release year'].min(),main_characters_holywood['Movie release year'].max(),10))\n",
    "plt.ylabel('Proportion of actors')\n"
   ]
  },
  {
   "cell_type": "code",
   "execution_count": null,
   "metadata": {},
   "outputs": [],
   "source": [
    "plt.figure(figsize=(20,10))\n",
    "sns.kdeplot(data=main_characters_holywood,x='Movie release year',hue='Ethnicity',multiple='fill')\n",
    "plt.title(\"Distribution of ethnicity of actors in the cinema industry over time\",fontsize=20)\n",
    "plt.xticks(np.arange(main_characters_holywood['Movie release year'].min(),main_characters_holywood['Movie release year'].max(),10))\n",
    "plt.ylabel('Proportion of actors')\n"
   ]
  },
  {
   "cell_type": "code",
   "execution_count": null,
   "metadata": {},
   "outputs": [],
   "source": [
    "# Same plot but with diffrent orientationm for bettwer visibility\n",
    "plt.figure(figsize=(20,10))\n",
    "sns.histplot(data=main_characters_holywood, y='Movie release year', hue='Ethnicity', multiple='fill', stat='probability')\n",
    "plt.title(\"Distribution of ethnicity of actors over time\",fontsize=20)\n",
    "plt.yticks(np.arange(main_characters_holywood['Movie release year'].min(), main_characters_holywood['Movie release year'].max(), 10))\n",
    "plt.xlabel('Proportion')\n",
    "plt.ylim(2020, 1900)"
   ]
  },
  {
   "cell_type": "code",
   "execution_count": null,
   "metadata": {},
   "outputs": [],
   "source": [
    "map_year_actor = main_characters_holywood.pivot_table(index=['Movie release year'], columns='Ethnicity', values='Freebase character ID', aggfunc='count')\n",
    "df_year_actor = pd.DataFrame(map_year_actor.values,columns=map_year_actor.columns.values.tolist(),index=map_year_actor.index.values.tolist())\n",
    "plt.figure(figsize=(20,10))\n",
    "plt.title(\"Evolution of actor diversity over time\")\n",
    "sns.heatmap(map_year_actor.transpose(),cmap=\"rocket_r\")"
   ]
  },
  {
   "cell_type": "code",
   "execution_count": null,
   "metadata": {},
   "outputs": [],
   "source": [
    "sns.histplot(data= main_characters_holywood ,x='Movie release year',stat='count')\n",
    "plt.title('Evolution of the number of actors over year')\n",
    "plt.ylabel('Number of actors')"
   ]
  },
  {
   "cell_type": "markdown",
   "metadata": {},
   "source": [
    "Let's determine how does the diversity (number of different ethnicities) on a movies have evolved over time"
   ]
  },
  {
   "cell_type": "markdown",
   "metadata": {},
   "source": [
    "**We could try to define a dervisty score depending on different factors**"
   ]
  },
  {
   "cell_type": "code",
   "execution_count": null,
   "metadata": {},
   "outputs": [],
   "source": [
    "#Count the number of unique ethnicities in a movie cast \n",
    "diversity_per_movie = main_characters_holywood.groupby('Freebase Movie ID')['Ethnicity'].apply(lambda x : (len(np.unique(x))/len(x))*100)\n",
    "#Then for each year, find the mean number of unique ethnicities in the cast\n",
    "diversity_per_movie = pd.DataFrame({'Freebase Movie ID': diversity_per_movie.index.values,'Unique ethnicity':diversity_per_movie.values })\n",
    "\n",
    "main_characters_holywood = main_characters_holywood.merge(diversity_per_movie,how='left',on='Freebase Movie ID')"
   ]
  },
  {
   "cell_type": "code",
   "execution_count": null,
   "metadata": {},
   "outputs": [],
   "source": [
    "main_characters_holywood.groupby('Movie release year')['Unique ethnicity'].mean().plot()\n",
    "plt.title('Mean proportion of diversity in a movie cast over the time')\n",
    "plt.xlabel('Years')\n",
    "plt.ylabel('Mean proportion of diversity in a movie cast')"
   ]
  },
  {
   "cell_type": "markdown",
   "metadata": {},
   "source": [
    "## Gender analysis"
   ]
  },
  {
   "cell_type": "markdown",
   "metadata": {},
   "source": [
    "Now, create a pyramid plot to show the difference between ethnicities over the years."
   ]
  },
  {
   "cell_type": "code",
   "execution_count": null,
   "metadata": {},
   "outputs": [],
   "source": [
    "H_ethinity_M = main_characters_holywood[main_characters_holywood['Gender'] == 'M'].groupby(['Ethnicity'])['Freebase actor ID'].count().sort_values()\n",
    "H_ethinity_M_reversed = H_ethinity_M*(-1)\n",
    "H_ethinity_F = main_characters_holywood[main_characters_holywood['Gender'] == 'F'].groupby(['Ethnicity'])['Freebase actor ID'].count().sort_values()"
   ]
  },
  {
   "cell_type": "code",
   "execution_count": null,
   "metadata": {},
   "outputs": [],
   "source": [
    "plt.barh(y=H_ethinity_M.index, width=H_ethinity_M.values, left=H_ethinity_M_reversed.values, color=\"#4682b4\", label=\"Male\")\n",
    "plt.barh(y=H_ethinity_F.index, width=H_ethinity_F.values, \n",
    "         color=\"#ee7a87\", label=\"Female\")\n",
    "plt.legend()\n",
    "plt.title(\"Sex distribtion depending on the ethincity over all time\")"
   ]
  },
  {
   "cell_type": "code",
   "execution_count": null,
   "metadata": {},
   "outputs": [],
   "source": [
    "proportion_ethinity_M = main_characters_holywood[main_characters_holywood['Gender'] == 'M'].groupby(['Ethnicity'])['Freebase actor ID'].apply(lambda x: len(x)/(len(main_characters_holywood['Gender'])))\n",
    "proportion_ethinity_F = main_characters_holywood[main_characters_holywood['Gender'] == 'F'].groupby(['Ethnicity'])['Freebase actor ID'].apply(lambda x: len(x)/(len(main_characters_holywood['Gender'])))\n"
   ]
  },
  {
   "cell_type": "markdown",
   "metadata": {},
   "source": [
    "*What's the best way of plotting ?*"
   ]
  },
  {
   "cell_type": "code",
   "execution_count": null,
   "metadata": {},
   "outputs": [],
   "source": [
    "plt.bar(x=proportion_ethinity_M.index, height=proportion_ethinity_M.values, color=\"#4682b4\", label=\"Male\")\n",
    "plt.bar(x=proportion_ethinity_F.index, height=proportion_ethinity_F.values, \n",
    "         color=\"#ee7a87\", label=\"Female\")\n",
    "plt.legend()\n",
    "plt.title(\"Sex distribtion depending on the ethincity over all time\")\n",
    "plt.xticks(rotation=90)"
   ]
  },
  {
   "cell_type": "code",
   "execution_count": null,
   "metadata": {},
   "outputs": [],
   "source": [
    "# Let's groupby Ethincity and Year and separate the genders.\n",
    "H_ethinity_M_year = main_characters_holywood[main_characters_holywood['Gender'] == 'M'].groupby(['Ethnicity', 'Movie release year'])['Freebase actor ID'].count().sort_values()\n",
    "\n",
    "H_ethinity_F_year = main_characters_holywood[main_characters_holywood['Gender'] == 'F'].groupby(['Ethnicity', 'Movie release year'])['Freebase actor ID'].count().sort_values()"
   ]
  },
  {
   "cell_type": "code",
   "execution_count": null,
   "metadata": {},
   "outputs": [],
   "source": [
    "ethnicities_M, years_M = zip(*H_ethinity_M_year.index)\n",
    "ethnicities_F, years_F = zip(*H_ethinity_F_year.index)\n",
    "\n",
    "fig, ax = plt.subplots(1, 2, sharey=True, figsize=(20, 20))\n",
    "plt.subplots_adjust(wspace=0)\n",
    "\n",
    "# Plot for men\n",
    "sns.histplot(ax=ax[0], y=list(years_M), weights=np.abs(H_ethinity_M_year.values), hue=list(ethnicities_M), multiple='stack', stat='count', binwidth=1)\n",
    "\n",
    "ax[0].set_xlabel(\"Count (Men)\")\n",
    "ax[0].invert_xaxis()# Flip the x-axis\n",
    "ax[0].set_ylabel(\"Movie release year\")\n",
    "ax[0].set_ylim(2020, 1900)  # Flip the y-axis\n",
    "ax[0].set_xlim(150, 0)\n",
    "ax[0].set_title('Male Distribution')\n",
    "\n",
    "# Plot for women\n",
    "sns.histplot(ax=ax[1], y=list(years_F), weights=np.abs(H_ethinity_F_year.values), hue=list(ethnicities_F), multiple='stack', stat='count', binwidth=1, legend= False)\n",
    "  \n",
    "ax[1].set_xlabel(\"Count (Women)\")\n",
    "ax[1].set_ylim(2020, 1900)  # Flip the y-axis\n",
    "ax[1].set_xlim(0, 150)\n",
    "ax[1].set_title('Women Distribution')\n",
    "\n",
    "plt.suptitle(\"Sex distribution depending on the ethnicity over all time\")\n",
    "plt.show()"
   ]
  },
  {
   "cell_type": "code",
   "execution_count": null,
   "metadata": {},
   "outputs": [],
   "source": [
    "fig, ax = plt.subplots(3, 1, figsize=(10, 10))\n",
    "flierprops = dict(marker='o', markerfacecolor='black', markersize=2)\n",
    "\n",
    "sns.boxplot(data=main_characters_holywood, x=\"Age at movie release\", y=\"Ethnicity\", \n",
    "            ax=ax[0], flierprops=flierprops)\n",
    "ax[0].set_title('Women and Men')\n",
    "ax[0].set_xlabel('Age at movie release')\n",
    "\n",
    "sns.boxplot(data=main_characters_holywood[main_characters_holywood['Gender'] == 'M'], \n",
    "            x=\"Age at movie release\", y=\"Ethnicity\", ax=ax[1], flierprops=flierprops)\n",
    "ax[1].set_title('Men only')\n",
    "ax[1].set_xlabel('Age at movie release')\n",
    "\n",
    "sns.boxplot(data=main_characters_holywood[main_characters_holywood['Gender'] == 'F'], \n",
    "            x=\"Age at movie release\", y=\"Ethnicity\", ax=ax[2], flierprops=flierprops)\n",
    "ax[2].set_title('Women only')\n",
    "ax[2].set_xlabel('Age at movie release')\n",
    "fig.tight_layout()\n",
    "\n",
    "plt.suptitle('', fontsize=20)"
   ]
  },
  {
   "cell_type": "markdown",
   "metadata": {},
   "source": [
    "### Movie revenue depending on the ethinicity proportion"
   ]
  },
  {
   "cell_type": "code",
   "execution_count": null,
   "metadata": {},
   "outputs": [],
   "source": [
    "movie_revenues=main_characters_holywood.groupby('Movie name').apply(lambda x: pd.DataFrame({\n",
    "        'Number of ethnicities': x['Ethnicity'].nunique(),\n",
    "        'Revenue': x['Box office revenue'].drop_duplicates()\n",
    "    }))\n",
    "movie_revenues=movie_revenues.dropna()"
   ]
  },
  {
   "cell_type": "code",
   "execution_count": null,
   "metadata": {},
   "outputs": [],
   "source": [
    "sns.barplot(data=movie_revenues, x='Number of ethnicities', y='Revenue')"
   ]
  },
  {
   "cell_type": "markdown",
   "metadata": {},
   "source": [
    "## Role analysis"
   ]
  },
  {
   "cell_type": "markdown",
   "metadata": {},
   "source": [
    "#### Unnamed actors"
   ]
  },
  {
   "cell_type": "code",
   "execution_count": null,
   "metadata": {},
   "outputs": [],
   "source": [
    "proportion_unnamed_actors = main_characters_holywood.copy().groupby('Ethnicity').apply(lambda x: pd.Series({\n",
    "        'Unnamed characters': x['Character name'].isna().sum()*100/len(x['Character name'])\n",
    "    })).sort_values(ascending=False,by = 'Unnamed characters')\n",
    "proportion_unnamed_actors.plot(kind='bar')\n",
    "plt.title(\"Proportion of actors with unnamed roles upon ethnicity\")\n",
    "plt.xlabel('Ethnicities')\n",
    "plt.ylabel('Percentage of unnamed actors')"
   ]
  },
  {
   "cell_type": "markdown",
   "metadata": {},
   "source": [
    "Now let's analyze the inside distribution of the unnamed actors "
   ]
  },
  {
   "cell_type": "code",
   "execution_count": null,
   "metadata": {},
   "outputs": [],
   "source": [
    "unname_actors = main_characters_holywood[main_characters_holywood['Character name'].isna()]"
   ]
  },
  {
   "cell_type": "code",
   "execution_count": null,
   "metadata": {},
   "outputs": [],
   "source": [
    "plt.figure(figsize=(20,10))\n",
    "sns.kdeplot(data=unname_actors,x='Movie release year',hue='Ethnicity',multiple='fill')\n",
    "plt.title(\"Distribution of ethnicity of actors in the cinema industry over time\",fontsize=20)\n",
    "plt.xticks(np.arange(unname_actors['Movie release year'].min(),unname_actors['Movie release year'].max(),10))\n",
    "plt.ylabel('Proportion of actors')\n"
   ]
  },
  {
   "cell_type": "code",
   "execution_count": null,
   "metadata": {},
   "outputs": [],
   "source": [
    "plt.figure(figsize=(20,10))\n",
    "sns.histplot(data=unname_actors,x='Movie release year',hue='Ethnicity')\n",
    "plt.title(\"Distribution of ethnicity of actors in the cinema industry over time\",fontsize=20)\n",
    "plt.xticks(np.arange(main_characters_holywood['Movie release year'].min(),main_characters_holywood['Movie release year'].max(),10))\n",
    "plt.ylabel('Number of actors')"
   ]
  },
  {
   "cell_type": "markdown",
   "metadata": {},
   "source": [
    "**Strange, I would have thought that the number of unnamed charcater would have decreased over time, as the recording method get better and better** -> Btw not really usefull as a figure"
   ]
  },
  {
   "cell_type": "markdown",
   "metadata": {},
   "source": [
    "## Plot analysis"
   ]
  },
  {
   "cell_type": "code",
   "execution_count": null,
   "metadata": {},
   "outputs": [],
   "source": [
    "plot = pd.read_csv(PLOT_PATH, sep='\\t',header=None,names=['Wikipedia Movie ID','Plot'])"
   ]
  },
  {
   "cell_type": "code",
   "execution_count": null,
   "metadata": {},
   "outputs": [],
   "source": [
    "main_characters_holywood = main_characters_holywood.merge(plot,on='Wikipedia Movie ID',how='left')"
   ]
  }
 ],
 "metadata": {
  "kernelspec": {
   "display_name": "ada",
   "language": "python",
   "name": "python3"
  },
  "language_info": {
   "codemirror_mode": {
    "name": "ipython",
    "version": 3
   },
   "file_extension": ".py",
   "mimetype": "text/x-python",
   "name": "python",
   "nbconvert_exporter": "python",
   "pygments_lexer": "ipython3",
   "version": "3.9.18"
  }
 },
 "nbformat": 4,
 "nbformat_minor": 2
}
