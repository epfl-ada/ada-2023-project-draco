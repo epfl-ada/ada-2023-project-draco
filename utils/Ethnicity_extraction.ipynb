{
 "cells": [
  {
   "cell_type": "code",
   "execution_count": 4,
   "metadata": {},
   "outputs": [],
   "source": [
    "import pandas as pd\n",
    "import numpy as np\n",
    "import matplotlib.pyplot as plt\n",
    "%matplotlib inline\n",
    "import seaborn as sns\n",
    "import math\n",
    "import json\n",
    "import ast\n",
    "import requests\n",
    "import os\n",
    "import statsmodels.formula.api as smf\n"
   ]
  },
  {
   "cell_type": "code",
   "execution_count": 6,
   "metadata": {},
   "outputs": [
    {
     "data": {
      "text/html": [
       "<div>\n",
       "<style scoped>\n",
       "    .dataframe tbody tr th:only-of-type {\n",
       "        vertical-align: middle;\n",
       "    }\n",
       "\n",
       "    .dataframe tbody tr th {\n",
       "        vertical-align: top;\n",
       "    }\n",
       "\n",
       "    .dataframe thead th {\n",
       "        text-align: right;\n",
       "    }\n",
       "</style>\n",
       "<table border=\"1\" class=\"dataframe\">\n",
       "  <thead>\n",
       "    <tr style=\"text-align: right;\">\n",
       "      <th></th>\n",
       "      <th>WikiID</th>\n",
       "      <th>FreebaseID</th>\n",
       "      <th>Release</th>\n",
       "      <th>Character name</th>\n",
       "      <th>Birth</th>\n",
       "      <th>Sex</th>\n",
       "      <th>Height (m)</th>\n",
       "      <th>Ethnicity ID</th>\n",
       "      <th>Name</th>\n",
       "      <th>Age at movie release</th>\n",
       "      <th>Freebase character/actor map ID</th>\n",
       "      <th>Freebase character ID</th>\n",
       "      <th>Freebase actor ID</th>\n",
       "    </tr>\n",
       "  </thead>\n",
       "  <tbody>\n",
       "    <tr>\n",
       "      <th>0</th>\n",
       "      <td>975900</td>\n",
       "      <td>/m/03vyhn</td>\n",
       "      <td>2001-08-24</td>\n",
       "      <td>Akooshay</td>\n",
       "      <td>1958-08-26</td>\n",
       "      <td>F</td>\n",
       "      <td>1.620</td>\n",
       "      <td>NaN</td>\n",
       "      <td>Wanda De Jesus</td>\n",
       "      <td>42.0</td>\n",
       "      <td>/m/0bgchxw</td>\n",
       "      <td>/m/0bgcj3x</td>\n",
       "      <td>/m/03wcfv7</td>\n",
       "    </tr>\n",
       "    <tr>\n",
       "      <th>1</th>\n",
       "      <td>975900</td>\n",
       "      <td>/m/03vyhn</td>\n",
       "      <td>2001-08-24</td>\n",
       "      <td>Lieutenant Melanie Ballard</td>\n",
       "      <td>1974-08-15</td>\n",
       "      <td>F</td>\n",
       "      <td>1.780</td>\n",
       "      <td>/m/044038p</td>\n",
       "      <td>Natasha Henstridge</td>\n",
       "      <td>27.0</td>\n",
       "      <td>/m/0jys3m</td>\n",
       "      <td>/m/0bgchn4</td>\n",
       "      <td>/m/0346l4</td>\n",
       "    </tr>\n",
       "    <tr>\n",
       "      <th>2</th>\n",
       "      <td>975900</td>\n",
       "      <td>/m/03vyhn</td>\n",
       "      <td>2001-08-24</td>\n",
       "      <td>Desolation Williams</td>\n",
       "      <td>1969-06-15</td>\n",
       "      <td>M</td>\n",
       "      <td>1.727</td>\n",
       "      <td>/m/0x67</td>\n",
       "      <td>Ice Cube</td>\n",
       "      <td>32.0</td>\n",
       "      <td>/m/0jys3g</td>\n",
       "      <td>/m/0bgchn_</td>\n",
       "      <td>/m/01vw26l</td>\n",
       "    </tr>\n",
       "    <tr>\n",
       "      <th>3</th>\n",
       "      <td>975900</td>\n",
       "      <td>/m/03vyhn</td>\n",
       "      <td>2001-08-24</td>\n",
       "      <td>Sgt Jericho Butler</td>\n",
       "      <td>1967-09-12</td>\n",
       "      <td>M</td>\n",
       "      <td>1.750</td>\n",
       "      <td>NaN</td>\n",
       "      <td>Jason Statham</td>\n",
       "      <td>33.0</td>\n",
       "      <td>/m/02vchl6</td>\n",
       "      <td>/m/0bgchnq</td>\n",
       "      <td>/m/034hyc</td>\n",
       "    </tr>\n",
       "    <tr>\n",
       "      <th>4</th>\n",
       "      <td>975900</td>\n",
       "      <td>/m/03vyhn</td>\n",
       "      <td>2001-08-24</td>\n",
       "      <td>Bashira Kincaid</td>\n",
       "      <td>1977-09-25</td>\n",
       "      <td>F</td>\n",
       "      <td>1.650</td>\n",
       "      <td>NaN</td>\n",
       "      <td>Clea DuVall</td>\n",
       "      <td>23.0</td>\n",
       "      <td>/m/02vbb3r</td>\n",
       "      <td>/m/0bgchp9</td>\n",
       "      <td>/m/01y9xg</td>\n",
       "    </tr>\n",
       "  </tbody>\n",
       "</table>\n",
       "</div>"
      ],
      "text/plain": [
       "   WikiID FreebaseID     Release              Character name       Birth Sex  \\\n",
       "0  975900  /m/03vyhn  2001-08-24                    Akooshay  1958-08-26   F   \n",
       "1  975900  /m/03vyhn  2001-08-24  Lieutenant Melanie Ballard  1974-08-15   F   \n",
       "2  975900  /m/03vyhn  2001-08-24         Desolation Williams  1969-06-15   M   \n",
       "3  975900  /m/03vyhn  2001-08-24          Sgt Jericho Butler  1967-09-12   M   \n",
       "4  975900  /m/03vyhn  2001-08-24             Bashira Kincaid  1977-09-25   F   \n",
       "\n",
       "   Height (m) Ethnicity ID                Name  Age at movie release  \\\n",
       "0       1.620          NaN      Wanda De Jesus                  42.0   \n",
       "1       1.780   /m/044038p  Natasha Henstridge                  27.0   \n",
       "2       1.727      /m/0x67            Ice Cube                  32.0   \n",
       "3       1.750          NaN       Jason Statham                  33.0   \n",
       "4       1.650          NaN         Clea DuVall                  23.0   \n",
       "\n",
       "  Freebase character/actor map ID Freebase character ID Freebase actor ID  \n",
       "0                      /m/0bgchxw            /m/0bgcj3x        /m/03wcfv7  \n",
       "1                       /m/0jys3m            /m/0bgchn4         /m/0346l4  \n",
       "2                       /m/0jys3g            /m/0bgchn_        /m/01vw26l  \n",
       "3                      /m/02vchl6            /m/0bgchnq         /m/034hyc  \n",
       "4                      /m/02vbb3r            /m/0bgchp9         /m/01y9xg  "
      ]
     },
     "execution_count": 6,
     "metadata": {},
     "output_type": "execute_result"
    }
   ],
   "source": [
    "# visualize character data\n",
    "characters = pd.read_csv('../Data/MovieSummaries/character.metadata.tsv', sep='\\t', header=None, \n",
    "    names = [\"WikiID\", \"FreebaseID\", \"Release\", \"Character name\", \"Birth\", \n",
    "    \"Sex\", \"Height (m)\", \"Ethnicity ID\", \"Name\", \"Age at movie release\",\n",
    "    \"Freebase character/actor map ID\", \"Freebase character ID\", \"Freebase actor ID\"])\n",
    "characters.head()"
   ]
  },
  {
   "cell_type": "code",
   "execution_count": 7,
   "metadata": {},
   "outputs": [
    {
     "name": "stdout",
     "output_type": "stream",
     "text": [
      "['/m/044038p', '/m/0x67', '/m/064b9n', '/m/041rx', '/m/033tf_', '/m/04gfy7', '/m/0222qb', '/m/01qhm_', '/m/0dryh9k', '/m/048sp5', '/m/04mvp8', '/m/0bzkm2', '/m/02p1pl6', '/m/0bjbszh', '/m/022fdt', '/m/0cqgdq', '/m/0ffkb4', '/m/075dhf0', '/m/01hwt', '/m/0xnvg', '/m/0dqqwy', '/m/048z7l', '/m/07bch9', '/m/09v5bdn', '/m/02w7gg', '/m/03bkbh', '/m/02vsw1', '/m/09kr66', '/m/09vc4s', '/m/0g0x7_', '/m/042gtr', '/m/0cm7w1', '/m/046cwm', '/m/04dbw3', '/m/02ctzb', '/m/0g8_vp', '/m/092h2qt', '/m/0g6ff', '/m/0278pqj', '/m/0301y_', '/m/019kn7', '/m/0cnvdq1', '/m/03295l', '/m/065b6q', '/m/03pqwy', '/m/01xhh5', '/m/03ts0c', '/m/06gbnc', '/m/07hwkr', '/m/0bpjh3', '/m/0fpjs3j', '/m/04nrnz', '/m/09k5jvk', '/m/07mqps', '/m/08hpk0', '/m/03ttfc', '/m/0d9q7j', '/m/075_n6', '/m/0dllcfn', '/m/04kbvpz', '/m/03ftx7', '/m/0747611', '/m/025rpb0', '/m/06mvq', '/m/047l_90', '/m/029f2r', '/m/01rv7x', '/m/05sf2x', '/m/01336l', '/m/0bh91q8', '/m/01g7zj', '/m/0cn68', '/m/02sch9', '/m/0fqp6zk', '/m/02y_9mh', '/m/0d7wh', '/m/0g96wd', '/m/047948f', '/m/04ggbzy', '/m/04q7gbh', '/m/013xrm', '/m/0gkxl2', '/m/0dbxy', '/m/0cmdl5l', '/m/0268d21', '/m/0912ll', '/m/022dp5', '/m/019lrz', '/m/03bx0k4', '/m/02p_gby', '/m/012c1l', '/m/04y29', '/m/09743', '/m/03w9bjf', '/m/09m6hr', '/m/0583cz', '/m/02g7sp', '/m/063k3h', '/m/071x0k', '/m/0bhsnb', '/m/0bkbz', '/m/0f0gt_', '/m/0283js_', '/m/01kg2v', '/m/0828vj', '/m/08v2k7', '/m/03gskx0', '/m/0h2138', '/m/0fng3k', '/m/023mqw', '/m/0222hg', '/m/09vmyh', '/m/06fczy', '/m/03lmx1', '/m/03vv99', '/m/09zyn5', '/m/0470lk', '/m/0fj1k9', '/m/03cbkrf', '/m/0bbz66j', '/m/0268_k', '/m/04dzwby', '/m/04y8_bm', '/m/0ffhz3', '/m/0ffj5g', '/m/06j2v', '/m/03cjjy0', '/m/06v41q', '/m/032j30', '/m/01n94b', '/m/0d2by', '/m/038723', '/m/0g5y6', '/m/09cqth', '/m/0bymc', '/m/0d8qh0', '/m/0c2hxm', '/m/04znbg', '/m/027n1m6', '/m/02czfr', '/m/0g48m4', '/m/01swvz', '/m/04tvpv', '/m/0462jl6', '/m/025_0f0', '/m/0j6x8', '/m/05ysft4', '/m/01ylpf', '/m/0bnzjx', '/m/04f581', '/m/0ch3pqf', '/m/02p4q5p', '/m/02wcbj_', '/m/02jvpv', '/m/08gzsf', '/m/02p444n', '/m/07j80c', '/m/0btrm4', '/m/04608z', '/m/065z7w_', '/m/0b0gzf', '/m/033njm', '/m/02rbdlq', '/m/01xttr', '/m/062_25', '/m/01nbcy', '/m/02cm28', '/m/0bns36b', '/m/0fqz6', '/m/047bp1r', '/m/0bs7l_v', '/m/02qv_h_', '/m/0dv5vw', '/m/026c9dq', '/m/0b__fv3', '/m/018s6c', '/m/03yk6g', '/m/05l3g_', '/m/0ckk60', '/m/0bfjm7', '/m/04jq32s', '/m/0790v', '/m/01trsl', '/m/03cdk7b', '/m/02q206y', '/m/05g0f1', '/m/067lwk', '/m/05748', '/m/033qxt', '/m/097nms', '/m/04czx7', '/m/08xbxs', '/m/0432mrk', '/m/059_w', '/m/01ywdy', '/m/0289z8v', '/m/013b6_', '/m/03f3sf', '/m/017sq0', '/m/04_hr_', '/m/071drf', '/m/0hbz9xw', '/m/01j2qv', '/m/0640_7q', '/m/02p656s', '/m/0dj8k3', '/m/0466nw8', '/m/07d_p8', '/m/078vc', '/m/09gp4', '/m/06lshc', '/m/0404kdr', '/m/016f5d', '/m/04mmhj', '/m/067lts', '/m/0761bp', '/m/0bbcnlt', '/m/06rd7', '/m/095mw2', '/m/09y7x4', '/m/08cjt2', '/m/013s3n', '/m/0g4pffv', '/m/09gk_6h', '/m/034s7b', '/m/0987ctr', '/m/04_bc8', '/m/0b98sy', '/m/0ffjqy', '/m/0fk1z', '/m/074w_m', '/m/03cl2pz', '/m/07gzw5', '/m/086wp0', '/m/01g0y_', '/m/04k02l', '/m/02p7gyv', '/m/03sx6v', '/m/0bfrrj', '/m/02pzb09', '/m/052r3t', '/m/0268pvf', '/m/013s2p', '/m/09chmw', '/m/0ft9bs', '/m/013b7g', '/m/02r_qms', '/m/0cx3p', '/m/026cybk', '/m/04ydrsn', '/m/067lrj', '/m/0c3wsgg', '/m/04zjjt', '/m/0180zw', '/m/0hj35', '/m/025tvhm', '/m/01p7s6', '/m/02rp50t', '/m/025x6k1', '/m/0150zs', '/m/0j4w_', '/m/04l_pt', '/m/0br_8h', '/m/0266mf0', '/m/03cnzsg', '/m/04hlx1', '/m/0288fw3', '/m/02vkw95', '/m/0fq6zlv', '/m/01sq7s', '/m/03r_k', '/m/0fk3s', '/m/046j25', '/m/0338zd', '/m/027lf0d', '/m/0152s7', '/m/03d19xz', '/m/0520604', '/m/04_tz7', '/m/01vsch', '/m/01d7kx', '/m/051wcch', '/m/09lz9zx', '/m/0738n4', '/m/0ffjvd', '/m/051x6yk', '/m/05sycg', '/m/0fp54b', '/m/027vy0s', '/m/0gf5k1', '/m/0dc58y8', '/m/07g8yp', '/m/0444sm4', '/m/0318mh', '/m/07hyjp', '/m/01c034', '/m/09fqz7', '/m/03ndvw', '/m/0b79c7', '/m/0665pp', '/m/03d26m9', '/m/04lhn7b', '/m/03h1dq9', '/m/0152wh', '/m/0cc5y74', '/m/0960kn', '/m/012f86', '/m/0h6mqq9', '/m/03wbmrc', '/m/0dqrh8', '/m/07n8wy', '/m/01267', '/m/01mw1s', '/m/02gx2x', '/m/03x_lpj', '/m/02rm7_9', '/m/04csgrq', '/m/05qb937', '/m/0xff', '/m/05vhv7', '/m/078ds', '/m/0dq1q', '/m/04wy6k', '/m/03vghh', '/m/065577s', '/m/0463n9y', '/m/0d32d1', '/m/0c41n', '/m/03ck8x1', '/m/09snp5', '/m/0fxmtg', '/m/02r11hz', '/m/0268xtg', '/m/026kx7g', '/m/09tqq8q', '/m/03kbr', '/m/05c60ml', '/m/05mtdy', '/m/064pj', '/m/026zlyd', '/m/08yg47', '/m/03x_fq7', '/m/06k6sl', '/m/0b8yvr', '/m/01tyl3', '/m/04sfz4s', '/m/02vkd28', '/m/0647lm', '/m/0bvnws', '/m/07lv5x', '/m/02r3wfk', '/m/02qv716', '/m/0h8mzsl', '/m/01nft3', '/m/031_sd', '/m/0ffhvl', '/m/07s49c2', '/m/03hf_6z', '/m/0d8qls', '/m/03fk0c', '/m/01crfj', '/m/0h1nk0k', '/m/01flqq', '/m/021pd', '/m/0bms44', '/m/07s9g04', '/m/03ty8_', '/m/02rdfpy', '/m/02vys3l', '/m/03fvrb', '/m/04pnf', '/m/0bvjpj', '/m/039z49', '/m/01_5cg', '/m/03q819', '/m/025xss1', '/m/0c29q8', '/m/013s41', '/m/03x1x', '/m/05cc9h', '/m/03m9my8', '/m/0165md', '/m/0g44f5', '/m/0gtwjz6', '/m/01hm_', '/m/03zcwh', '/m/04lgl9t', '/m/0g5k7qv', '/m/067lv3', '/m/0ftlzz', '/m/06y24j', '/m/02m0kh', '/m/01l0ty', '/m/03cmqbt', '/m/0g5rkt4', '/m/02dd5z', '/m/01gr8h', '/m/01vr3v', '/m/09g34_', '/m/09cd0m', '/m/03h11s3', '/m/05ms3p0', '/m/04lfc70', '/m/06dy2k', '/m/013z8m', '/m/0ftwg', '/m/0fk55', '/m/06bkf', '/m/0c_lbq', '/m/0301xt', '/m/01kb9y', '/m/042199j', '/m/03m3p6w', '/m/0br_9j', '/m/032m0b', '/m/05y2yj', '/m/01f9bg', '/m/04hqxn', '/m/068y7m', '/m/06w4lv', '/m/0ffk5n', '/m/03gy1h2', '/m/04wysy', '/m/04fh1b', '/m/01h4n', '/m/044bp_', '/m/0dtkkb', '/m/0fp4n', '/m/0166vx', '/m/047q05d', '/m/0c50f', '/m/01srl7', '/m/0fpxlz9', '/m/03lnnd', '/m/02pj9yr', '/m/04118b', '/m/0bdynxs', '/m/01gby2', '/m/0dn1_0', '/m/062szv5', '/m/062zk4r', '/m/043_z22', '/m/097r55', '/m/035b50', '/m/01hphz', '/m/033fjj', '/m/0b3zsn', '/m/04lhnps', '/m/08c25t', '/m/05sng', '/m/05bzpzx', '/m/064rb5l', '/m/01km_m', '/m/059v8', '/m/03b_13l', '/m/09c8kp', '/m/05ztd1', '/m/04c28', '/m/03sk2', '/m/04jtjvt', '/m/03hjx6f', '/m/027936c', '/m/03nvq', '/m/03nz70', '/m/01g3rx', '/m/02wz7j', '/m/04kdwcx', '/m/04_8lfc', '/m/033qt1', '/m/08j1fb', '/m/07wsyr', '/m/06vb7b', '/m/012fh', '/m/0dm3xpw', '/m/09r2kh', '/m/02ry8mk', '/m/029q52', '/m/026d074', '/m/013y54']\n"
     ]
    }
   ],
   "source": [
    "# List of all Freebase ethnicity ID in the dataset\n",
    "ethnicities = characters['Ethnicity ID'].dropna().unique().tolist()\n",
    "print(ethnicities)"
   ]
  },
  {
   "cell_type": "code",
   "execution_count": 10,
   "metadata": {},
   "outputs": [
    {
     "name": "stdout",
     "output_type": "stream",
     "text": [
      "['African Americans', 'Omaha people']\n"
     ]
    }
   ],
   "source": [
    "''' code by CLEMENT (inspired by stackoverflow)\n",
    "https://stackoverflow.com/questions/74277269/wikidata-query-service-how-do-i-search-by-freebase\n",
    "'''\n",
    "\n",
    "def get_freebase_label(freebase_ids):\n",
    "      '''\n",
    "      Checks the wikidata database for the label of a freebase id\n",
    "      - Input: list of freebase ids\n",
    "      - Output: list of labels\n",
    "      '''\n",
    "      labels = []\n",
    "      url = 'https://query.wikidata.org/sparql'\n",
    "      for id in freebase_ids:\n",
    "            query = '''\n",
    "            SELECT ?s ?sLabel ?freebaseID\n",
    "            WHERE {\n",
    "\n",
    "            VALUES ?freebaseID { \n",
    "            \"'''+id+'''\"\n",
    "            }\n",
    "\n",
    "            ?s wdt:P646 ?freebaseID .\n",
    "\n",
    "            SERVICE wikibase:label { bd:serviceParam wikibase:language \"en\" . } \n",
    "            }\n",
    "                  '''\n",
    "            r = requests.post(url, params = {'format': 'json', 'query': query})\n",
    "            data = r.json()\n",
    "            if len(data['results']['bindings']) != 0:\n",
    "                  labels.append(data['results']['bindings'][0]['sLabel']['value'])\n",
    "            else:\n",
    "                  labels.append('NaN')\n",
    "      return labels\n",
    "\n",
    "# test\n",
    "a = ['/m/0x67', '/m/064b9n']\n",
    "labels = get_freebase_label(a)\n",
    "print(labels)\n"
   ]
  },
  {
   "cell_type": "code",
   "execution_count": 13,
   "metadata": {},
   "outputs": [
    {
     "name": "stdout",
     "output_type": "stream",
     "text": [
      "File ethnicities_data.tsv already exists\n"
     ]
    }
   ],
   "source": [
    "# check if file already exists\n",
    "if os.path.exists(os.path.join(os.getcwd(), '..', 'ethnicities_data.tsv')):\n",
    "      print('File ethnicities_data.tsv already exists')\n",
    "else:\n",
    "      # get labels and save to csv file\n",
    "      labels = get_freebase_label(ethnicities)\n",
    "      ethnicities_data = pd.DataFrame({'Ethnicities ID':ethnicities, 'Ethnicities':labels})\n",
    "      ethnicities_data.to_csv('ethnicities_data.tsv', sep='\\t', index=False)\n",
    "      print('Saved file ethnicities_data.tsv')"
   ]
  },
  {
   "cell_type": "code",
   "execution_count": null,
   "metadata": {},
   "outputs": [],
   "source": []
  }
 ],
 "metadata": {
  "kernelspec": {
   "display_name": "ada",
   "language": "python",
   "name": "python3"
  },
  "language_info": {
   "codemirror_mode": {
    "name": "ipython",
    "version": 3
   },
   "file_extension": ".py",
   "mimetype": "text/x-python",
   "name": "python",
   "nbconvert_exporter": "python",
   "pygments_lexer": "ipython3",
   "version": "3.9.18"
  }
 },
 "nbformat": 4,
 "nbformat_minor": 2
}
